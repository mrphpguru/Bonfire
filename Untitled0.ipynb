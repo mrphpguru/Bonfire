{
  "nbformat": 4,
  "nbformat_minor": 0,
  "metadata": {
    "colab": {
      "provenance": [],
      "authorship_tag": "ABX9TyPKs7Lcyi9lDW5pWeCCyygp",
      "include_colab_link": true
    },
    "kernelspec": {
      "name": "python3",
      "display_name": "Python 3"
    },
    "language_info": {
      "name": "python"
    }
  },
  "cells": [
    {
      "cell_type": "markdown",
      "metadata": {
        "id": "view-in-github",
        "colab_type": "text"
      },
      "source": [
        "<a href=\"https://colab.research.google.com/github/mrphpguru/Bonfire/blob/master/Untitled0.ipynb\" target=\"_parent\"><img src=\"https://colab.research.google.com/assets/colab-badge.svg\" alt=\"Open In Colab\"/></a>"
      ]
    },
    {
      "cell_type": "code",
      "source": [
        "import requests\n",
        "from bs4 import BeautifulSoup\n",
        "import pandas as pd\n",
        "\n",
        "# Function to extract product information\n",
        "def scrape_products(url):\n",
        "    base_url = 'https://eeboo.com'\n",
        "    response = requests.get(url)\n",
        "    soup = BeautifulSoup(response.text, 'html.parser')\n",
        "\n",
        "    products = soup.find_all('li', class_='grid__item')\n",
        "\n",
        "    if not products:\n",
        "        print(\"No products found. Check the class name or the structure of the HTML.\")\n",
        "        return\n",
        "\n",
        "    product_data = []\n",
        "\n",
        "    for product in products:\n",
        "        title_element = product.find('h3', class_='card__heading')\n",
        "        title = title_element.text.strip() if title_element else \"No title found\"\n",
        "\n",
        "        price_element = product.find('span', class_='price-item--regular')\n",
        "        price = price_element.text.strip() if price_element else \"No price found\"\n",
        "\n",
        "        link_element = product.find('a', class_='full-unstyled-link')\n",
        "        if link_element:\n",
        "            product_url = base_url + link_element['href']\n",
        "\n",
        "            # Scrape individual product page\n",
        "            product_details = scrape_product_details(product_url)\n",
        "\n",
        "            if product_details:\n",
        "                description = product_details.get('description', 'No description found')\n",
        "                dimensions = product_details.get('dimensions', 'No dimensions found')\n",
        "\n",
        "                product_data.append({\n",
        "                    'Title': title,\n",
        "                    'Price': price,\n",
        "                    'Description': description,\n",
        "                    'Dimensions': dimensions\n",
        "                })\n",
        "            else:\n",
        "                product_data.append({\n",
        "                    'Title': title,\n",
        "                    'Price': price,\n",
        "                    'Description': 'No description found',\n",
        "                    'Dimensions': 'No dimensions found'\n",
        "                })\n",
        "\n",
        "    # Convert to DataFrame\n",
        "    df = pd.DataFrame(product_data)\n",
        "\n",
        "    # Save to Excel\n",
        "    file_name = 'product_info.xlsx'\n",
        "    df.to_excel(file_name, index=False)\n",
        "    print(f\"Data saved to '{file_name}'.\")\n",
        "\n",
        "    # Download the file to local machine (Colab-specific)\n",
        "    from google.colab import files\n",
        "    files.download(file_name)\n",
        "\n",
        "def scrape_product_details(url):\n",
        "    response = requests.get(url)\n",
        "    soup = BeautifulSoup(response.text, 'html.parser')\n",
        "\n",
        "    description_element = soup.find('div', class_='product-single__description rte')\n",
        "    description = description_element.text.strip() if description_element else None\n",
        "\n",
        "    dimensions_element = soup.find('div', class_='product-single__meta')\n",
        "    dimensions = dimensions_element.text.strip() if dimensions_element else None\n",
        "\n",
        "    return {'description': description, 'dimensions': dimensions}\n",
        "\n",
        "# URL of the collection page\n",
        "url = 'https://eeboo.com/collections/all-products'\n",
        "scrape_products(url)\n"
      ],
      "metadata": {
        "colab": {
          "base_uri": "https://localhost:8080/",
          "height": 34
        },
        "id": "ugXBWZHQDrh4",
        "outputId": "78f78703-de27-4dd2-ab13-b37fd6b54435"
      },
      "execution_count": 17,
      "outputs": [
        {
          "output_type": "stream",
          "name": "stdout",
          "text": [
            "Data saved to 'product_info.xlsx'.\n"
          ]
        },
        {
          "output_type": "display_data",
          "data": {
            "text/plain": [
              "<IPython.core.display.Javascript object>"
            ],
            "application/javascript": [
              "\n",
              "    async function download(id, filename, size) {\n",
              "      if (!google.colab.kernel.accessAllowed) {\n",
              "        return;\n",
              "      }\n",
              "      const div = document.createElement('div');\n",
              "      const label = document.createElement('label');\n",
              "      label.textContent = `Downloading \"${filename}\": `;\n",
              "      div.appendChild(label);\n",
              "      const progress = document.createElement('progress');\n",
              "      progress.max = size;\n",
              "      div.appendChild(progress);\n",
              "      document.body.appendChild(div);\n",
              "\n",
              "      const buffers = [];\n",
              "      let downloaded = 0;\n",
              "\n",
              "      const channel = await google.colab.kernel.comms.open(id);\n",
              "      // Send a message to notify the kernel that we're ready.\n",
              "      channel.send({})\n",
              "\n",
              "      for await (const message of channel.messages) {\n",
              "        // Send a message to notify the kernel that we're ready.\n",
              "        channel.send({})\n",
              "        if (message.buffers) {\n",
              "          for (const buffer of message.buffers) {\n",
              "            buffers.push(buffer);\n",
              "            downloaded += buffer.byteLength;\n",
              "            progress.value = downloaded;\n",
              "          }\n",
              "        }\n",
              "      }\n",
              "      const blob = new Blob(buffers, {type: 'application/binary'});\n",
              "      const a = document.createElement('a');\n",
              "      a.href = window.URL.createObjectURL(blob);\n",
              "      a.download = filename;\n",
              "      div.appendChild(a);\n",
              "      a.click();\n",
              "      div.remove();\n",
              "    }\n",
              "  "
            ]
          },
          "metadata": {}
        },
        {
          "output_type": "display_data",
          "data": {
            "text/plain": [
              "<IPython.core.display.Javascript object>"
            ],
            "application/javascript": [
              "download(\"download_e2b4784e-abb3-43c3-b2e7-44f870c7f3b9\", \"product_info.xlsx\", 6229)"
            ]
          },
          "metadata": {}
        }
      ]
    }
  ]
}